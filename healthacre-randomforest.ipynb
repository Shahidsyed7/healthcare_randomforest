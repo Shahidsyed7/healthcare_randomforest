{
 "cells": [
  {
   "cell_type": "markdown",
   "id": "4c38a829",
   "metadata": {
    "papermill": {
     "duration": 0.004079,
     "end_time": "2024-12-25T16:12:51.477362",
     "exception": false,
     "start_time": "2024-12-25T16:12:51.473283",
     "status": "completed"
    },
    "tags": []
   },
   "source": [
    "In this work, we aim to develop a classification model that predicts abnormal test results based on various factors, such as age, sex, blood type, medical condition, and payment amount. Abnormal test results can be an important sign of medical diagnosis, and the ability to detect them early can lead to timely intervention. As healthcare becomes increasingly data-driven, building models that can reliably identify and predict such outcomes will play an important role in improving patient care and surgery will be improved\n",
    "\n",
    "The dataset used in this study includes patient records, which have classification and statistical features, and the objective variable is test results: test results \"normal\" or \"abnormal\" Classification of these test results correct can greatly enhance decision-making in health care.\n",
    "\n",
    "For the purpose of this research, I chose RandomForestClassifier as a group machine learning algorithm known for its accuracy and ability to handle large and complex datasets. The model was trained on the given data, and several analytical parameters were used to evaluate its performance, including accuracy, precision, recall and f1-score\n",
    "\n",
    "In thisproject, we will evaluate the effectiveness of the model, analyze the results, and propose future improvements to better identify abnormal test results."
   ]
  },
  {
   "cell_type": "code",
   "execution_count": 1,
   "id": "ca487281",
   "metadata": {
    "execution": {
     "iopub.execute_input": "2024-12-25T16:12:51.485795Z",
     "iopub.status.busy": "2024-12-25T16:12:51.485444Z",
     "iopub.status.idle": "2024-12-25T16:12:54.143594Z",
     "shell.execute_reply": "2024-12-25T16:12:54.142319Z"
    },
    "papermill": {
     "duration": 2.664191,
     "end_time": "2024-12-25T16:12:54.145331",
     "exception": false,
     "start_time": "2024-12-25T16:12:51.481140",
     "status": "completed"
    },
    "tags": []
   },
   "outputs": [
    {
     "name": "stdout",
     "output_type": "stream",
     "text": [
      "                    Name  Age  Gender Blood Type Medical Condition  \\\n",
      "0          Bobby JacksOn   30    Male         B-            Cancer   \n",
      "1           LesLie TErRy   62    Male         A+           Obesity   \n",
      "2            DaNnY sMitH   76  Female         A-           Obesity   \n",
      "3           andrEw waTtS   28  Female         O+          Diabetes   \n",
      "4          adrIENNE bEll   43  Female        AB+            Cancer   \n",
      "...                  ...  ...     ...        ...               ...   \n",
      "55495  eLIZABeTH jaCkSOn   42  Female         O+            Asthma   \n",
      "55496         KYle pEREz   61  Female        AB-           Obesity   \n",
      "55497       HEATher WaNG   38  Female         B+      Hypertension   \n",
      "55498     JENniFER JOneS   43    Male         O-         Arthritis   \n",
      "55499       jAMES GARCiA   53  Female         O+         Arthritis   \n",
      "\n",
      "      Date of Admission            Doctor                      Hospital  \\\n",
      "0            2024-01-31     Matthew Smith               Sons and Miller   \n",
      "1            2019-08-20   Samantha Davies                       Kim Inc   \n",
      "2            2022-09-22  Tiffany Mitchell                      Cook PLC   \n",
      "3            2020-11-18       Kevin Wells    Hernandez Rogers and Vang,   \n",
      "4            2022-09-19    Kathleen Hanna                   White-White   \n",
      "...                 ...               ...                           ...   \n",
      "55495        2020-08-16     Joshua Jarvis                Jones-Thompson   \n",
      "55496        2020-01-23   Taylor Sullivan                  Tucker-Moyer   \n",
      "55497        2020-07-13    Joe Jacobs DVM  and Mahoney Johnson Vasquez,   \n",
      "55498        2019-05-25    Kimberly Curry      Jackson Todd and Castro,   \n",
      "55499        2024-04-02     Dennis Warren                Henry Sons and   \n",
      "\n",
      "      Insurance Provider  Billing Amount  Room Number Admission Type  \\\n",
      "0             Blue Cross    18856.281306          328         Urgent   \n",
      "1               Medicare    33643.327287          265      Emergency   \n",
      "2                  Aetna    27955.096079          205      Emergency   \n",
      "3               Medicare    37909.782410          450       Elective   \n",
      "4                  Aetna    14238.317814          458         Urgent   \n",
      "...                  ...             ...          ...            ...   \n",
      "55495         Blue Cross     2650.714952          417       Elective   \n",
      "55496              Cigna    31457.797307          316       Elective   \n",
      "55497   UnitedHealthcare    27620.764717          347         Urgent   \n",
      "55498           Medicare    32451.092358          321       Elective   \n",
      "55499              Aetna     4010.134172          448         Urgent   \n",
      "\n",
      "      Discharge Date   Medication  Test Results  \n",
      "0         2024-02-02  Paracetamol        Normal  \n",
      "1         2019-08-26    Ibuprofen  Inconclusive  \n",
      "2         2022-10-07      Aspirin        Normal  \n",
      "3         2020-12-18    Ibuprofen      Abnormal  \n",
      "4         2022-10-09   Penicillin      Abnormal  \n",
      "...              ...          ...           ...  \n",
      "55495     2020-09-15   Penicillin      Abnormal  \n",
      "55496     2020-02-01      Aspirin        Normal  \n",
      "55497     2020-08-10    Ibuprofen      Abnormal  \n",
      "55498     2019-05-31    Ibuprofen      Abnormal  \n",
      "55499     2024-04-29    Ibuprofen      Abnormal  \n",
      "\n",
      "[55500 rows x 15 columns]\n"
     ]
    }
   ],
   "source": [
    "import pandas as pd\n",
    "import numpy as np\n",
    "import matplotlib.pyplot as plt \n",
    "import seaborn as sns\n",
    "from sklearn.model_selection import train_test_split\n",
    "from sklearn.preprocessing import LabelEncoder, StandardScaler\n",
    "from datetime import datetime\n",
    "\n",
    "df=pd.read_csv(\"/kaggle/input/healthcareneww/healthcare_dataset.csv\")\n",
    "print(df)"
   ]
  },
  {
   "cell_type": "code",
   "execution_count": 2,
   "id": "52679c49",
   "metadata": {
    "execution": {
     "iopub.execute_input": "2024-12-25T16:12:54.153961Z",
     "iopub.status.busy": "2024-12-25T16:12:54.153605Z",
     "iopub.status.idle": "2024-12-25T16:12:54.159983Z",
     "shell.execute_reply": "2024-12-25T16:12:54.158948Z"
    },
    "papermill": {
     "duration": 0.012437,
     "end_time": "2024-12-25T16:12:54.161514",
     "exception": false,
     "start_time": "2024-12-25T16:12:54.149077",
     "status": "completed"
    },
    "tags": []
   },
   "outputs": [
    {
     "name": "stdout",
     "output_type": "stream",
     "text": [
      "Index(['Name', 'Age', 'Gender', 'Blood Type', 'Medical Condition',\n",
      "       'Date of Admission', 'Doctor', 'Hospital', 'Insurance Provider',\n",
      "       'Billing Amount', 'Room Number', 'Admission Type', 'Discharge Date',\n",
      "       'Medication', 'Test Results'],\n",
      "      dtype='object')\n"
     ]
    }
   ],
   "source": [
    "print(df.columns)"
   ]
  },
  {
   "cell_type": "code",
   "execution_count": 3,
   "id": "6170eac3",
   "metadata": {
    "execution": {
     "iopub.execute_input": "2024-12-25T16:12:54.170086Z",
     "iopub.status.busy": "2024-12-25T16:12:54.169764Z",
     "iopub.status.idle": "2024-12-25T16:12:54.210998Z",
     "shell.execute_reply": "2024-12-25T16:12:54.209728Z"
    },
    "papermill": {
     "duration": 0.047615,
     "end_time": "2024-12-25T16:12:54.212928",
     "exception": false,
     "start_time": "2024-12-25T16:12:54.165313",
     "status": "completed"
    },
    "tags": []
   },
   "outputs": [
    {
     "name": "stdout",
     "output_type": "stream",
     "text": [
      "Name                  0\n",
      "Age                   0\n",
      "Gender                0\n",
      "Blood Type            0\n",
      "Medical Condition     0\n",
      "Date of Admission     0\n",
      "Doctor                0\n",
      "Hospital              0\n",
      "Insurance Provider    0\n",
      "Billing Amount        0\n",
      "Room Number           0\n",
      "Admission Type        0\n",
      "Discharge Date        0\n",
      "Medication            0\n",
      "Test Results          0\n",
      "dtype: int64\n"
     ]
    }
   ],
   "source": [
    "print(df.isnull().sum())"
   ]
  },
  {
   "cell_type": "code",
   "execution_count": 4,
   "id": "95c137d8",
   "metadata": {
    "execution": {
     "iopub.execute_input": "2024-12-25T16:12:54.221748Z",
     "iopub.status.busy": "2024-12-25T16:12:54.221422Z",
     "iopub.status.idle": "2024-12-25T16:12:54.246708Z",
     "shell.execute_reply": "2024-12-25T16:12:54.245314Z"
    },
    "papermill": {
     "duration": 0.031926,
     "end_time": "2024-12-25T16:12:54.248671",
     "exception": false,
     "start_time": "2024-12-25T16:12:54.216745",
     "status": "completed"
    },
    "tags": []
   },
   "outputs": [
    {
     "name": "stdout",
     "output_type": "stream",
     "text": [
      "                Age  Billing Amount   Room Number\n",
      "count  55500.000000    55500.000000  55500.000000\n",
      "mean      51.539459    25539.316097    301.134829\n",
      "std       19.602454    14211.454431    115.243069\n",
      "min       13.000000    -2008.492140    101.000000\n",
      "25%       35.000000    13241.224652    202.000000\n",
      "50%       52.000000    25538.069376    302.000000\n",
      "75%       68.000000    37820.508436    401.000000\n",
      "max       89.000000    52764.276736    500.000000\n"
     ]
    }
   ],
   "source": [
    "#Summary statistics of the numerical columns\n",
    "print(df.describe())"
   ]
  },
  {
   "cell_type": "code",
   "execution_count": 5,
   "id": "d0aa3770",
   "metadata": {
    "execution": {
     "iopub.execute_input": "2024-12-25T16:12:54.258496Z",
     "iopub.status.busy": "2024-12-25T16:12:54.258102Z",
     "iopub.status.idle": "2024-12-25T16:12:54.870703Z",
     "shell.execute_reply": "2024-12-25T16:12:54.869396Z"
    },
    "papermill": {
     "duration": 0.619337,
     "end_time": "2024-12-25T16:12:54.872487",
     "exception": false,
     "start_time": "2024-12-25T16:12:54.253150",
     "status": "completed"
    },
    "tags": []
   },
   "outputs": [
    {
     "name": "stderr",
     "output_type": "stream",
     "text": [
      "/usr/local/lib/python3.10/dist-packages/seaborn/_oldcore.py:1119: FutureWarning: use_inf_as_na option is deprecated and will be removed in a future version. Convert inf values to NaN before operating instead.\n",
      "  with pd.option_context('mode.use_inf_as_na', True):\n"
     ]
    },
    {
     "data": {
      "image/png": "[encoded data removed]",
      "text/plain": [
       "<Figure size 640x480 with 1 Axes>"
      ]
     },
     "metadata": {},
     "output_type": "display_data"
    }
   ],
   "source": [
    "#age distribution\n",
    "sns.histplot(df['Age'], kde=True)\n",
    "plt.title('Age Distribution')\n",
    "plt.show()"
   ]
  },
  {
   "cell_type": "code",
   "execution_count": 6,
   "id": "766bf96c",
   "metadata": {
    "execution": {
     "iopub.execute_input": "2024-12-25T16:12:54.882645Z",
     "iopub.status.busy": "2024-12-25T16:12:54.882310Z",
     "iopub.status.idle": "2024-12-25T16:12:54.894246Z",
     "shell.execute_reply": "2024-12-25T16:12:54.892776Z"
    },
    "papermill": {
     "duration": 0.019011,
     "end_time": "2024-12-25T16:12:54.896063",
     "exception": false,
     "start_time": "2024-12-25T16:12:54.877052",
     "status": "completed"
    },
    "tags": []
   },
   "outputs": [
    {
     "name": "stdout",
     "output_type": "stream",
     "text": [
      "                     Age  Billing Amount  Room Number\n",
      "Age             1.000000       -0.003832    -0.000720\n",
      "Billing Amount -0.003832        1.000000    -0.002943\n",
      "Room Number    -0.000720       -0.002943     1.000000\n"
     ]
    }
   ],
   "source": [
    "#correlation\n",
    "z=df.corr(numeric_only=True)\n",
    "print(z)"
   ]
  },
  {
   "cell_type": "code",
   "execution_count": 7,
   "id": "529a5635",
   "metadata": {
    "execution": {
     "iopub.execute_input": "2024-12-25T16:12:54.907327Z",
     "iopub.status.busy": "2024-12-25T16:12:54.906921Z",
     "iopub.status.idle": "2024-12-25T16:12:55.208912Z",
     "shell.execute_reply": "2024-12-25T16:12:55.207716Z"
    },
    "papermill": {
     "duration": 0.30994,
     "end_time": "2024-12-25T16:12:55.210814",
     "exception": false,
     "start_time": "2024-12-25T16:12:54.900874",
     "status": "completed"
    },
    "tags": []
   },
   "outputs": [
    {
     "data": {
      "text/plain": [
       "<Axes: >"
      ]
     },
     "execution_count": 7,
     "metadata": {},
     "output_type": "execute_result"
    },
    {
     "data": {
      "image/png": "[encoded data removed]",
      "text/plain": [
       "<Figure size 640x480 with 2 Axes>"
      ]
     },
     "metadata": {},
     "output_type": "display_data"
    }
   ],
   "source": [
    "sns.heatmap(z,annot=True)"
   ]
  },
  {
   "cell_type": "code",
   "execution_count": 8,
   "id": "837568e5",
   "metadata": {
    "execution": {
     "iopub.execute_input": "2024-12-25T16:12:55.222882Z",
     "iopub.status.busy": "2024-12-25T16:12:55.222529Z",
     "iopub.status.idle": "2024-12-25T16:12:55.272841Z",
     "shell.execute_reply": "2024-12-25T16:12:55.271648Z"
    },
    "papermill": {
     "duration": 0.058568,
     "end_time": "2024-12-25T16:12:55.274848",
     "exception": false,
     "start_time": "2024-12-25T16:12:55.216280",
     "status": "completed"
    },
    "tags": []
   },
   "outputs": [],
   "source": [
    "#label encoding=convert categorical variable to numeric\n",
    "df['Gender'] = df['Gender'].map({'Male': 1, 'Female': 0})\n",
    "df['Blood Type'] = df['Blood Type'].map({\n",
    "    'A': 1, 'A+': 1, 'A-': 1,\n",
    "    'B': 2, 'B+': 2, 'B-': 2,\n",
    "    'O': 3, 'O+': 3, 'O-': 3,\n",
    "    'AB': 4, 'AB+': 4, 'AB-': 4\n",
    "})\n",
    "df['Admission Type'] = df['Admission Type'].map({'Urgent': 0, 'Elective': 1, 'Emergency': 2})\n",
    "df['Medical Condition'] = df['Medical Condition'].replace({\n",
    "    'Cancer': 1,\n",
    "    'Obesity': 2,\n",
    "    'Diabetes': 3,\n",
    "    'Asthma': 4,\n",
    "    'Hypertension': 5,\n",
    "    'Arthritis': 6,\n",
    "    'Other': 0\n",
    "}).astype(int)\n"
   ]
  },
  {
   "cell_type": "code",
   "execution_count": 9,
   "id": "49870a83",
   "metadata": {
    "execution": {
     "iopub.execute_input": "2024-12-25T16:12:55.287580Z",
     "iopub.status.busy": "2024-12-25T16:12:55.287083Z",
     "iopub.status.idle": "2024-12-25T16:12:55.299509Z",
     "shell.execute_reply": "2024-12-25T16:12:55.298105Z"
    },
    "papermill": {
     "duration": 0.02079,
     "end_time": "2024-12-25T16:12:55.301462",
     "exception": false,
     "start_time": "2024-12-25T16:12:55.280672",
     "status": "completed"
    },
    "tags": []
   },
   "outputs": [
    {
     "name": "stdout",
     "output_type": "stream",
     "text": [
      "                    Name  Age  Gender  Blood Type  Medical Condition  \\\n",
      "0          Bobby JacksOn   30       1           2                  1   \n",
      "1           LesLie TErRy   62       1           1                  2   \n",
      "2            DaNnY sMitH   76       0           1                  2   \n",
      "3           andrEw waTtS   28       0           3                  3   \n",
      "4          adrIENNE bEll   43       0           4                  1   \n",
      "...                  ...  ...     ...         ...                ...   \n",
      "55495  eLIZABeTH jaCkSOn   42       0           3                  4   \n",
      "55496         KYle pEREz   61       0           4                  2   \n",
      "55497       HEATher WaNG   38       0           2                  5   \n",
      "55498     JENniFER JOneS   43       1           3                  6   \n",
      "55499       jAMES GARCiA   53       0           3                  6   \n",
      "\n",
      "      Date of Admission            Doctor                      Hospital  \\\n",
      "0            2024-01-31     Matthew Smith               Sons and Miller   \n",
      "1            2019-08-20   Samantha Davies                       Kim Inc   \n",
      "2            2022-09-22  Tiffany Mitchell                      Cook PLC   \n",
      "3            2020-11-18       Kevin Wells    Hernandez Rogers and Vang,   \n",
      "4            2022-09-19    Kathleen Hanna                   White-White   \n",
      "...                 ...               ...                           ...   \n",
      "55495        2020-08-16     Joshua Jarvis                Jones-Thompson   \n",
      "55496        2020-01-23   Taylor Sullivan                  Tucker-Moyer   \n",
      "55497        2020-07-13    Joe Jacobs DVM  and Mahoney Johnson Vasquez,   \n",
      "55498        2019-05-25    Kimberly Curry      Jackson Todd and Castro,   \n",
      "55499        2024-04-02     Dennis Warren                Henry Sons and   \n",
      "\n",
      "      Insurance Provider  Billing Amount  Room Number  Admission Type  \\\n",
      "0             Blue Cross    18856.281306          328               0   \n",
      "1               Medicare    33643.327287          265               2   \n",
      "2                  Aetna    27955.096079          205               2   \n",
      "3               Medicare    37909.782410          450               1   \n",
      "4                  Aetna    14238.317814          458               0   \n",
      "...                  ...             ...          ...             ...   \n",
      "55495         Blue Cross     2650.714952          417               1   \n",
      "55496              Cigna    31457.797307          316               1   \n",
      "55497   UnitedHealthcare    27620.764717          347               0   \n",
      "55498           Medicare    32451.092358          321               1   \n",
      "55499              Aetna     4010.134172          448               0   \n",
      "\n",
      "      Discharge Date   Medication  Test Results  \n",
      "0         2024-02-02  Paracetamol        Normal  \n",
      "1         2019-08-26    Ibuprofen  Inconclusive  \n",
      "2         2022-10-07      Aspirin        Normal  \n",
      "3         2020-12-18    Ibuprofen      Abnormal  \n",
      "4         2022-10-09   Penicillin      Abnormal  \n",
      "...              ...          ...           ...  \n",
      "55495     2020-09-15   Penicillin      Abnormal  \n",
      "55496     2020-02-01      Aspirin        Normal  \n",
      "55497     2020-08-10    Ibuprofen      Abnormal  \n",
      "55498     2019-05-31    Ibuprofen      Abnormal  \n",
      "55499     2024-04-29    Ibuprofen      Abnormal  \n",
      "\n",
      "[55500 rows x 15 columns]\n"
     ]
    }
   ],
   "source": [
    "print(df)"
   ]
  },
  {
   "cell_type": "code",
   "execution_count": 10,
   "id": "236c881e",
   "metadata": {
    "execution": {
     "iopub.execute_input": "2024-12-25T16:12:55.314049Z",
     "iopub.status.busy": "2024-12-25T16:12:55.313607Z",
     "iopub.status.idle": "2024-12-25T16:12:55.353748Z",
     "shell.execute_reply": "2024-12-25T16:12:55.352439Z"
    },
    "papermill": {
     "duration": 0.048814,
     "end_time": "2024-12-25T16:12:55.355964",
     "exception": false,
     "start_time": "2024-12-25T16:12:55.307150",
     "status": "completed"
    },
    "tags": []
   },
   "outputs": [],
   "source": [
    "#train model\n",
    "X = df[['Age', 'Gender', 'Blood Type', 'Medical Condition', 'Billing Amount']] \n",
    "y = df['Test Results'].apply(lambda x: 1 if x == 'Abnormal' else 0) \n",
    "X_train, X_test, y_train, y_test = train_test_split(X, y, test_size=0.2, random_state=42)"
   ]
  },
  {
   "cell_type": "code",
   "execution_count": 11,
   "id": "e4d2165a",
   "metadata": {
    "execution": {
     "iopub.execute_input": "2024-12-25T16:12:55.368275Z",
     "iopub.status.busy": "2024-12-25T16:12:55.367835Z",
     "iopub.status.idle": "2024-12-25T16:12:55.374281Z",
     "shell.execute_reply": "2024-12-25T16:12:55.373282Z"
    },
    "papermill": {
     "duration": 0.01438,
     "end_time": "2024-12-25T16:12:55.375986",
     "exception": false,
     "start_time": "2024-12-25T16:12:55.361606",
     "status": "completed"
    },
    "tags": []
   },
   "outputs": [
    {
     "data": {
      "text/plain": [
       "((44400, 5), (11100, 5), (44400,), (11100,))"
      ]
     },
     "execution_count": 11,
     "metadata": {},
     "output_type": "execute_result"
    }
   ],
   "source": [
    "X_train.shape, X_test.shape, y_train.shape, y_test.shape"
   ]
  },
  {
   "cell_type": "code",
   "execution_count": 12,
   "id": "967f0434",
   "metadata": {
    "execution": {
     "iopub.execute_input": "2024-12-25T16:12:55.388387Z",
     "iopub.status.busy": "2024-12-25T16:12:55.387995Z",
     "iopub.status.idle": "2024-12-25T16:13:03.612062Z",
     "shell.execute_reply": "2024-12-25T16:13:03.610719Z"
    },
    "papermill": {
     "duration": 8.232252,
     "end_time": "2024-12-25T16:13:03.613913",
     "exception": false,
     "start_time": "2024-12-25T16:12:55.381661",
     "status": "completed"
    },
    "tags": []
   },
   "outputs": [
    {
     "name": "stdout",
     "output_type": "stream",
     "text": [
      "Accuracy: 0.6110810810810811\n",
      "              precision    recall  f1-score   support\n",
      "\n",
      "           0       0.68      0.79      0.73      7346\n",
      "           1       0.39      0.26      0.31      3754\n",
      "\n",
      "    accuracy                           0.61     11100\n",
      "   macro avg       0.53      0.52      0.52     11100\n",
      "weighted avg       0.58      0.61      0.59     11100\n",
      "\n"
     ]
    }
   ],
   "source": [
    "from sklearn.ensemble import RandomForestClassifier\n",
    "from sklearn.metrics import accuracy_score, classification_report\n",
    "\n",
    "model = RandomForestClassifier(random_state=42)\n",
    "model.fit(X_train, y_train)\n",
    "\n",
    "# Evaluate on Test Data\n",
    "y_pred = model.predict(X_test)\n",
    "print(\"Accuracy:\", accuracy_score(y_test, y_pred))\n",
    "print(classification_report(y_test, y_pred))"
   ]
  },
  {
   "cell_type": "markdown",
   "id": "ce84a863",
   "metadata": {
    "papermill": {
     "duration": 0.00508,
     "end_time": "2024-12-25T16:13:03.624665",
     "exception": false,
     "start_time": "2024-12-25T16:13:03.619585",
     "status": "completed"
    },
    "tags": []
   },
   "source": [
    "In this project, I used the RandomForestClassifier to create a classification model that predicted aberrant test results based on variables such as age, gender, blood type, medical condition, and billing amount. The model scored an overall accuracy of 61%, with strong performance in predicting normal test results (label 0), indicating that it is capable of identifying the majority class.\n",
    "However, the model's performance in recognizing abnormal test results (label 1) was unsatisfactory, with a recall of 0.26 and a precision of 0.39, showing that it struggles to correctly identify less common abnormal cases. This is typical in real-world datasets when class imbalance exists, and while RandomForest is generally powerful, this difficulty is more tied to the distribution of the classes in the data than to the the choice of the model itself."
   ]
  }
 ],
 "metadata": {
  "kaggle": {
   "accelerator": "none",
   "dataSources": [
    {
     "datasetId": 6372166,
     "sourceId": 10295528,
     "sourceType": "datasetVersion"
    }
   ],
   "dockerImageVersionId": 30822,
   "isGpuEnabled": false,
   "isInternetEnabled": true,
   "language": "python",
   "sourceType": "notebook"
  },
  "kernelspec": {
   "display_name": "Python 3",
   "language": "python",
   "name": "python3"
  },
  "language_info": {
   "codemirror_mode": {
    "name": "ipython",
    "version": 3
   },
   "file_extension": ".py",
   "mimetype": "text/x-python",
   "name": "python",
   "nbconvert_exporter": "python",
   "pygments_lexer": "ipython3",
   "version": "3.10.12"
  },
  "papermill": {
   "default_parameters": {},
   "duration": 15.05243,
   "end_time": "2024-12-25T16:13:04.350815",
   "environment_variables": {},
   "exception": null,
   "input_path": "__notebook__.ipynb",
   "output_path": "__notebook__.ipynb",
   "parameters": {},
   "start_time": "2024-12-25T16:12:49.298385",
   "version": "2.6.0"
  }
 },
 "nbformat": 4,
 "nbformat_minor": 5
}
